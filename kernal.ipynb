{
  "nbformat": 4,
  "nbformat_minor": 0,
  "metadata": {
    "colab": {
      "provenance": [],
      "authorship_tag": "ABX9TyMLS1OfAKh5C631aXjNDAn4",
      "include_colab_link": true
    },
    "kernelspec": {
      "name": "python3",
      "display_name": "Python 3"
    },
    "language_info": {
      "name": "python"
    }
  },
  "cells": [
    {
      "cell_type": "markdown",
      "metadata": {
        "id": "view-in-github",
        "colab_type": "text"
      },
      "source": [
        "<a href=\"https://colab.research.google.com/github/ravivarmateppala/-test-of-Machine-Learning-Theoretical-Concepts/blob/main/kernal.ipynb\" target=\"_parent\"><img src=\"https://colab.research.google.com/assets/colab-badge.svg\" alt=\"Open In Colab\"/></a>"
      ]
    },
    {
      "cell_type": "code",
      "execution_count": null,
      "metadata": {
        "id": "lM5no46OMaVD"
      },
      "outputs": [],
      "source": []
    },
    {
      "cell_type": "markdown",
      "source": [
        "Explain various types of  Kernels with respect to the formula\n",
        "\n",
        "Kernel Function is a method used to take data as input and transform it into the required form of processing data. “Kernel” is used due to a set of mathematical functions used in Support Vector Machine providing the window to manipulate the data. So, Kernel Function generally transforms the training set of data so that a non-linear decision surface is able to transform to a linear equation in a higher number of dimension spaces. Basically, It returns the inner product between two points in a standard feature dimension.\n",
        "\n",
        "\n",
        "Gaussian Kernel: It is used to perform transformation when there is no prior knowledge about data.\n",
        "K (x, y) = e ^ - (\\frac{||x - y||^2} {2 \\sigma^2})\n",
        "\n",
        "\n",
        "Gaussian Kernel Radial Basis Function (RBF): Same as above kernel function, adding radial basis method to improve the transformation.\n",
        "\n",
        "K (x, y) = e ^ - (\\gamma{||x - y||^2})\n",
        "\n",
        "\n",
        "Sigmoid Kernel: this function is equivalent to a two-layer, perceptron model of the neural network, which is used as an activation function for artificial neurons.\n",
        "K (x, y) = tanh (\\gamma.{x^T y}+{r})\n",
        "\n",
        "Polynomial Kernel: It represents the similarity of vectors in the training set of data in a feature space over polynomials of the original variables used in the kernel.\n",
        "K (x, y) = tanh (\\gamma.{x^T y}+{r})^d, \\gamma>0\n",
        "\n",
        "\n",
        "\n",
        "\n",
        "\"\"\""
      ],
      "metadata": {
        "id": "Qd-5g82FOmy9"
      }
    }
  ]
}